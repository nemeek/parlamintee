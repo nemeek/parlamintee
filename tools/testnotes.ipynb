{
 "cells": [
  {
   "cell_type": "code",
   "execution_count": 1,
   "id": "4834c1c9",
   "metadata": {},
   "outputs": [
    {
     "name": "stdout",
     "output_type": "stream",
     "text": [
      "INFO:utils.py:159: NumExpr defaulting to 8 threads.\n"
     ]
    }
   ],
   "source": [
    "from lxml import etree\n",
    "from parlamintee import make_notes\n",
    "from parlamintee import notes_to_xml\n",
    "from parlamintee import txt_minus_notes"
   ]
  },
  {
   "cell_type": "code",
   "execution_count": 2,
   "id": "88ebce03",
   "metadata": {},
   "outputs": [
    {
     "name": "stdout",
     "output_type": "stream",
     "text": [
      "[{'algus': 12, 'ots': 21, 'vahe': 9, 'note': '(Aplaus.)'}, {'algus': 27, 'ots': 36, 'vahe': 9, 'note': '(Aplaus.)'}, {'algus': 169, 'ots': 195, 'vahe': 26, 'note': '(Juhataja helistab kella.)'}]\n"
     ]
    }
   ],
   "source": [
    "NOTE_VASTUS = [\n",
    "    '(Kaugühendus)',\n",
    "    '(Juhataja helistab kella.)',\n",
    "    '(Aplaus.)',\n",
    "    '(Naer saalis.)',\n",
    "    '(Hääl saalist.)',\n",
    "    '(Naerab.)',\n",
    "    '(Naer.)'\n",
    "]\n",
    "katsetekst = \"\"\"Palju õnne! (Aplaus.) Nüüd (Aplaus.) on juhataja väikese dilemma ees: \n",
    "saalist kostusid mitmed hõiked, et võiks juhataja vaheaja võtta, \n",
    "siis saaks Markole õnne soovida.(Juhataja helistab kella.) Järgneb sumin.\"\"\"\n",
    "tulem = make_notes(katsetekst, NOTE_VASTUS)\n",
    "print (tulem)"
   ]
  },
  {
   "cell_type": "code",
   "execution_count": 3,
   "id": "869e50fa",
   "metadata": {},
   "outputs": [
    {
     "name": "stdout",
     "output_type": "stream",
     "text": [
      "12 - 21 - 9 Palju õnne! \n",
      "27 - 36 - 9 Palju õnne!  Nüüd \n",
      "169 - 195 - 26 Palju õnne!  Nüüd  on juhataja väikese dilemma ees: \n",
      "saalist kostusid mitmed hõiked, et võiks juhataja vaheaja võtta, \n",
      "siis saaks Markole õnne soovida.\n",
      "Palju õnne!  Nüüd  on juhataja väikese dilemma ees: \n",
      "saalist kostusid mitmed hõiked, et võiks juhataja vaheaja võtta, \n",
      "siis saaks Markole õnne soovida. Järgneb sumin.\n"
     ]
    }
   ],
   "source": [
    "uustekst = ''\n",
    "# vahepikkus = 0\n",
    "a = 0\n",
    "for i in tulem:\n",
    "    uustekst = uustekst + katsetekst[a:i['algus']]\n",
    "    # vahepikkus=i['ots']-i['algus']\n",
    "    print('{algus} - {ots} - {vahe}'.format(**i),uustekst)\n",
    "    a = i['ots']\n",
    "uustekst = uustekst + katsetekst[i['ots']:]\n",
    "print(uustekst)\n",
    "    "
   ]
  },
  {
   "cell_type": "code",
   "execution_count": 4,
   "id": "a419020e",
   "metadata": {},
   "outputs": [],
   "source": [
    "def xmlnotes(element: etree._Element, text: str, notes: list):\n",
    "    a = 0\n",
    "    nl = notes.pop(0) \n",
    "    element.text = text[a:nl['algus']]\n",
    "    n = etree.SubElement(element, 'note')\n",
    "    n.text = nl['note']\n",
    "    n.tail = text[nl['ots']:]\n",
    "    a = nl['ots']\n",
    "    e = element\n",
    "    while notes:\n",
    "        nl = notes.pop(0) \n",
    "        n = etree.Element('note')\n",
    "        n.text = nl['note']\n",
    "        n.tail = text[nl['ots']:]\n",
    "        e.append(n)\n",
    "        e = element\n",
    "    return element\n",
    "        "
   ]
  },
  {
   "cell_type": "code",
   "execution_count": 5,
   "id": "55b254ea",
   "metadata": {},
   "outputs": [
    {
     "name": "stdout",
     "output_type": "stream",
     "text": [
      "[{'algus': 12, 'ots': 21, 'vahe': 9, 'note': '(Aplaus.)'}]\n"
     ]
    }
   ],
   "source": [
    "print(tulem[:1])"
   ]
  },
  {
   "cell_type": "code",
   "execution_count": 6,
   "id": "69ecc389",
   "metadata": {},
   "outputs": [],
   "source": [
    "#tu = xmlnotes(etree.Element('seg'), katsetekst, tulem)"
   ]
  },
  {
   "cell_type": "code",
   "execution_count": 7,
   "id": "68a3a696",
   "metadata": {},
   "outputs": [],
   "source": [
    "# print(etree.tostring(tu, encoding=\"unicode\", pretty_print=True))"
   ]
  },
  {
   "cell_type": "code",
   "execution_count": 8,
   "id": "033d1eab",
   "metadata": {},
   "outputs": [
    {
     "name": "stdout",
     "output_type": "stream",
     "text": [
      "katsetekst = Palju õnne! (Aplaus.) Nüüd (Aplaus.) on juhataja väikese dilemma ees: \n",
      "saalist kostusid mitmed hõiked, et võiks juhataja vaheaja võtta, \n",
      "siis saaks Markole õnne soovida.(Juhataja helistab kella.) Järgneb sumin.\n",
      "tulem = [{'algus': 12, 'ots': 21, 'vahe': 9, 'note': '(Aplaus.)'}, {'algus': 27, 'ots': 36, 'vahe': 9, 'note': '(Aplaus.)'}, {'algus': 169, 'ots': 195, 'vahe': 26, 'note': '(Juhataja helistab kella.)'}]\n"
     ]
    }
   ],
   "source": [
    "print('katsetekst = {}'.format(katsetekst))\n",
    "print('tulem = {}'.format(tulem))"
   ]
  },
  {
   "cell_type": "code",
   "execution_count": 9,
   "id": "11c72bb4",
   "metadata": {},
   "outputs": [
    {
     "name": "stdout",
     "output_type": "stream",
     "text": [
      "<seg>Palju õnne! <note>(Aplaus.)</note> Nüüd <note>(Aplaus.)</note> on juhataja väikese dilemma ees: \n",
      "saalist kostusid mitmed hõiked, et võiks juhataja vaheaja võtta, \n",
      "siis saaks Markole õnne soovida.<note>(Juhataja helistab kella.)</note> Järgneb sumin.</seg>\n"
     ]
    }
   ],
   "source": [
    "xmlnotedega = notes_to_xml(katsetekst, tulem, '<seg>', '</seg>')\n",
    "print(xmlnotedega)"
   ]
  },
  {
   "cell_type": "code",
   "execution_count": 10,
   "id": "b73e37cd",
   "metadata": {},
   "outputs": [],
   "source": [
    "tyhja_notega = txt_minus_notes(katsetekst, [])"
   ]
  },
  {
   "cell_type": "code",
   "execution_count": 11,
   "id": "ce7b4f5d",
   "metadata": {},
   "outputs": [
    {
     "name": "stdout",
     "output_type": "stream",
     "text": [
      "Palju õnne! (Aplaus.) Nüüd (Aplaus.) on juhataja väikese dilemma ees: \n",
      "saalist kostusid mitmed hõiked, et võiks juhataja vaheaja võtta, \n",
      "siis saaks Markole õnne soovida.(Juhataja helistab kella.) Järgneb sumin.\n"
     ]
    }
   ],
   "source": [
    "print(tyhja_notega)"
   ]
  },
  {
   "cell_type": "code",
   "execution_count": null,
   "id": "4bb5afca",
   "metadata": {},
   "outputs": [],
   "source": []
  }
 ],
 "metadata": {
  "kernelspec": {
   "display_name": "Python 3 (ipykernel)",
   "language": "python",
   "name": "python3"
  },
  "language_info": {
   "codemirror_mode": {
    "name": "ipython",
    "version": 3
   },
   "file_extension": ".py",
   "mimetype": "text/x-python",
   "name": "python",
   "nbconvert_exporter": "python",
   "pygments_lexer": "ipython3",
   "version": "3.8.12"
  }
 },
 "nbformat": 4,
 "nbformat_minor": 5
}
