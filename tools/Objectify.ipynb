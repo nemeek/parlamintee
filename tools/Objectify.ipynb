{
 "cells": [
  {
   "cell_type": "markdown",
   "id": "c2bb5bf7",
   "metadata": {},
   "source": [
    "# Objectify"
   ]
  },
  {
   "cell_type": "code",
   "execution_count": 1,
   "id": "69b114e4",
   "metadata": {},
   "outputs": [],
   "source": [
    "from lxml import etree\n",
    "from lxml import objectify"
   ]
  },
  {
   "cell_type": "code",
   "execution_count": 2,
   "id": "05b27f34",
   "metadata": {},
   "outputs": [],
   "source": [
    "tree = objectify.parse('../tests/data/ana-xml/ParlaMint-EE_2022-06-08.ana.xml')\n",
    "root = tree.getroot()"
   ]
  },
  {
   "cell_type": "code",
   "execution_count": 3,
   "id": "88c0f3b7",
   "metadata": {},
   "outputs": [
    {
     "name": "stdout",
     "output_type": "stream",
     "text": [
      "<lxml.etree._ElementTree object at 0x7f3624565740>\n"
     ]
    }
   ],
   "source": [
    "print(tree)"
   ]
  },
  {
   "cell_type": "code",
   "execution_count": 4,
   "id": "5fe6516a",
   "metadata": {},
   "outputs": [
    {
     "name": "stdout",
     "output_type": "stream",
     "text": [
      "1\n"
     ]
    }
   ],
   "source": [
    "print(len(root))"
   ]
  },
  {
   "cell_type": "code",
   "execution_count": 5,
   "id": "735563fe",
   "metadata": {},
   "outputs": [
    {
     "name": "stdout",
     "output_type": "stream",
     "text": [
      "{http://www.tei-c.org/ns/1.0}TEI\n"
     ]
    }
   ],
   "source": [
    "print(root.tag)"
   ]
  },
  {
   "cell_type": "code",
   "execution_count": 6,
   "id": "1098b2c9",
   "metadata": {},
   "outputs": [
    {
     "name": "stdout",
     "output_type": "stream",
     "text": [
      "VII regular session\n"
     ]
    }
   ],
   "source": [
    "print(root.teiHeader.fileDesc.titleStmt.meeting[1])"
   ]
  },
  {
   "cell_type": "code",
   "execution_count": 7,
   "id": "36c0ea48",
   "metadata": {},
   "outputs": [],
   "source": [
    "divs = root['{http://www.tei-c.org/ns/1.0}text'].body.div\n",
    "#print('wordlist: {}'.format(wordlist))\n",
    "#for s in wordlist:\n",
    "#    print(s.w.text)"
   ]
  },
  {
   "cell_type": "code",
   "execution_count": 12,
   "id": "8b36cbb4",
   "metadata": {},
   "outputs": [
    {
     "name": "stdout",
     "output_type": "stream",
     "text": [
      "8\n"
     ]
    }
   ],
   "source": [
    "print(divs.countchildren())"
   ]
  },
  {
   "cell_type": "code",
   "execution_count": 9,
   "id": "b47fe8a4",
   "metadata": {},
   "outputs": [],
   "source": [
    "#print(objectify.dump(root))"
   ]
  },
  {
   "cell_type": "code",
   "execution_count": 13,
   "id": "d73f4914",
   "metadata": {},
   "outputs": [
    {
     "name": "stdout",
     "output_type": "stream",
     "text": [
      "{http://www.tei-c.org/ns/1.0}note\n",
      "{http://www.tei-c.org/ns/1.0}u\n",
      "{http://www.tei-c.org/ns/1.0}note\n",
      "{http://www.tei-c.org/ns/1.0}u\n",
      "{http://www.tei-c.org/ns/1.0}note\n",
      "{http://www.tei-c.org/ns/1.0}u\n",
      "{http://www.tei-c.org/ns/1.0}note\n",
      "{http://www.tei-c.org/ns/1.0}u\n"
     ]
    }
   ],
   "source": [
    "for x in divs.iterchildren():\n",
    "    print(x.tag)"
   ]
  },
  {
   "cell_type": "code",
   "execution_count": null,
   "id": "3548722d",
   "metadata": {},
   "outputs": [],
   "source": []
  }
 ],
 "metadata": {
  "kernelspec": {
   "display_name": "Python 3 (ipykernel)",
   "language": "python",
   "name": "python3"
  },
  "language_info": {
   "codemirror_mode": {
    "name": "ipython",
    "version": 3
   },
   "file_extension": ".py",
   "mimetype": "text/x-python",
   "name": "python",
   "nbconvert_exporter": "python",
   "pygments_lexer": "ipython3",
   "version": "3.8.12"
  }
 },
 "nbformat": 4,
 "nbformat_minor": 5
}
