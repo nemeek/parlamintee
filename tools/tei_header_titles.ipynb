{
 "cells": [
  {
   "cell_type": "code",
   "execution_count": 1,
   "id": "514936fd",
   "metadata": {},
   "outputs": [
    {
     "name": "stdout",
     "output_type": "stream",
     "text": [
      "INFO:utils.py:159: NumExpr defaulting to 8 threads.\n"
     ]
    }
   ],
   "source": [
    "from lxml import etree\n",
    "from parlamintee import make_tei_header, make_meetings"
   ]
  },
  {
   "cell_type": "code",
   "execution_count": 2,
   "id": "60dba160",
   "metadata": {},
   "outputs": [],
   "source": [
    "teiheader_titles = [\n",
    "    {'element': 'title', 'lang': \"en\", 'type':\"main\",\n",
    "     'text' : 'Estonian parliamentary corpus ParlaMint-EE, 2015-01-12 [ParlaMint SAMPLE]'},\n",
    "    {'element': 'title', 'lang':\"en\", 'type':\"sub\",\n",
    "     'text': 'XII Parliament term, IX Session, Plenary Assembly regular meeting on Monday, 12.01.2015, 15:00'},\n",
    "    {'element':'title', 'lang':\"et\", 'type':\"sub\",\n",
    "     'text':'XII Riigikogu, IX Istungjärk, täiskogu korraline istung Esmaspäev, 12.01.2015, 15:00'},\n",
    "     {'element':'meeting', 'corresp':\"#ee_parliament\", 'ana':\"#parla.uni #parla.sitting\",\n",
    "      'n':\"2015-01-12\", 'text':'2015-01-12'},\n",
    "     {'element':'meeting', 'corresp':\"#ee_parliament\", 'ana':\"#parla.uni #parla.session\",\n",
    "      'n':\"rs9\", 'text':'IX regular session'},\n",
    "    {'element':'meeting', 'corresp':\"#ee_parliament\",\n",
    "     'ana':\"#parla.uni #parla.term #parliament.RK12\",\n",
    "     'text':'XII Riigikogu'}\n",
    "]"
   ]
  },
  {
   "cell_type": "code",
   "execution_count": null,
   "id": "9ae06100",
   "metadata": {},
   "outputs": [],
   "source": []
  },
  {
   "cell_type": "code",
   "execution_count": 3,
   "id": "a9d13a22",
   "metadata": {},
   "outputs": [],
   "source": [
    "tags_data = [\n",
    "    {'element':'namespace', 'name':\"http://www.tei-c.org/ns/1.0\",\n",
    "     'content':[\n",
    "         {'element':'tagUsage', 'gi':'text','occurs':'1'},\n",
    "         {'element':'tagUsage', 'gi':'u', 'occurs':'42'}\n",
    "     ]\n",
    "        \n",
    "    }]"
   ]
  },
  {
   "cell_type": "code",
   "execution_count": 4,
   "id": "ad971997",
   "metadata": {},
   "outputs": [],
   "source": [
    "header = make_tei_header(titles = teiheader_titles,\n",
    "                        tagsDecl = tags_data)"
   ]
  },
  {
   "cell_type": "code",
   "execution_count": 5,
   "id": "10fedfc4",
   "metadata": {},
   "outputs": [
    {
     "name": "stdout",
     "output_type": "stream",
     "text": [
      "<Element teiHeader at 0x7fd0873ba2c0>\n"
     ]
    }
   ],
   "source": [
    "print(header)"
   ]
  },
  {
   "cell_type": "code",
   "execution_count": 6,
   "id": "b40c97a8",
   "metadata": {},
   "outputs": [
    {
     "name": "stdout",
     "output_type": "stream",
     "text": [
      "<teiHeader>\n",
      "  <fileDesc>\n",
      "    <titleStmt>\n",
      "      <title xml:lang=\"en\" type=\"main\">Estonian parliamentary corpus ParlaMint-EE, 2015-01-12 [ParlaMint SAMPLE]</title>\n",
      "      <title xml:lang=\"en\" type=\"sub\">XII Parliament term, IX Session, Plenary Assembly regular meeting on Monday, 12.01.2015, 15:00</title>\n",
      "      <title xml:lang=\"et\" type=\"sub\">XII Riigikogu, IX Istungjärk, täiskogu korraline istung Esmaspäev, 12.01.2015, 15:00</title>\n",
      "      <meeting corresp=\"#ee_parliament\" ana=\"#parla.uni #parla.sitting\" n=\"2015-01-12\">2015-01-12</meeting>\n",
      "      <meeting corresp=\"#ee_parliament\" ana=\"#parla.uni #parla.session\" n=\"rs9\">IX regular session</meeting>\n",
      "      <meeting corresp=\"#ee_parliament\" ana=\"#parla.uni #parla.term #parliament.RK12\">XII Riigikogu</meeting>\n",
      "      <respStmt/>\n",
      "      <funder/>\n",
      "    </titleStmt>\n",
      "    <editionStmt/>\n",
      "    <extent/>\n",
      "    <publicationStmt>\n",
      "      <publisher/>\n",
      "      <idno/>\n",
      "      <availability/>\n",
      "      <date/>\n",
      "    </publicationStmt>\n",
      "    <sourceDesc>\n",
      "      <bibl/>\n",
      "    </sourceDesc>\n",
      "  </fileDesc>\n",
      "  <encodingDesc>\n",
      "    <projectDesc/>\n",
      "    <tagsDecl>\n",
      "      <namespace name=\"http://www.tei-c.org/ns/1.0\">\n",
      "        <tagUsage gi=\"text\" occurs=\"1\"/>\n",
      "        <tagUsage gi=\"u\" occurs=\"42\"/>\n",
      "      </namespace>\n",
      "    </tagsDecl>\n",
      "  </encodingDesc>\n",
      "  <profileDesc>\n",
      "    <settingDesc>\n",
      "      <setting/>\n",
      "    </settingDesc>\n",
      "  </profileDesc>\n",
      "</teiHeader>\n",
      "\n"
     ]
    }
   ],
   "source": [
    "print(etree.tostring(header, encoding='unicode', pretty_print=True))"
   ]
  },
  {
   "cell_type": "code",
   "execution_count": 7,
   "id": "b4500cfe",
   "metadata": {},
   "outputs": [],
   "source": [
    "# test make meetings"
   ]
  },
  {
   "cell_type": "code",
   "execution_count": 8,
   "id": "8faa9bb6",
   "metadata": {},
   "outputs": [
    {
     "name": "stdout",
     "output_type": "stream",
     "text": [
      "[{'corresp': '#ee_parliament', 'ana': '#parla.uni #parla.term #parliament.RK12', 'text': 'XII Riigikogu', 'element': 'meeting'}, {'corresp': '#ee_parliament', 'ana': '#parla.uni #parla.session', 'n': 'rs9', 'text': 'IX regular session', 'element': 'meeting'}, {'corresp': '#ee_parliament', 'ana': '#parla.uni #parla.sitting', 'n': '2015-01-12', 'text': '2015-01-12', 'element': 'meeting'}]\n"
     ]
    }
   ],
   "source": [
    "meetings = make_meetings(year=2011, session=\"IX regular session\",\n",
    "                        date='2015-01-12')\n",
    "print(meetings)"
   ]
  }
 ],
 "metadata": {
  "kernelspec": {
   "display_name": "Python 3 (ipykernel)",
   "language": "python",
   "name": "python3"
  },
  "language_info": {
   "codemirror_mode": {
    "name": "ipython",
    "version": 3
   },
   "file_extension": ".py",
   "mimetype": "text/x-python",
   "name": "python",
   "nbconvert_exporter": "python",
   "pygments_lexer": "ipython3",
   "version": "3.8.12"
  }
 },
 "nbformat": 4,
 "nbformat_minor": 5
}
