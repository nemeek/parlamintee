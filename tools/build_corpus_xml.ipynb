{
 "cells": [
  {
   "cell_type": "markdown",
   "id": "d6f1ad93",
   "metadata": {},
   "source": [
    "# Build xml corpus"
   ]
  },
  {
   "cell_type": "code",
   "execution_count": 1,
   "id": "4df8b2fa",
   "metadata": {},
   "outputs": [
    {
     "name": "stdout",
     "output_type": "stream",
     "text": [
      "INFO:utils.py:159: NumExpr defaulting to 8 threads.\n"
     ]
    }
   ],
   "source": [
    "from lxml import etree\n",
    "import parlamintee"
   ]
  },
  {
   "cell_type": "code",
   "execution_count": 2,
   "id": "19dc0b12",
   "metadata": {},
   "outputs": [],
   "source": [
    "a = parlamintee.make_tei_header()"
   ]
  },
  {
   "cell_type": "code",
   "execution_count": 3,
   "id": "be8cd56a",
   "metadata": {},
   "outputs": [],
   "source": [
    "txt = etree.tostring(a, encoding=\"unicode\", pretty_print=True)"
   ]
  },
  {
   "cell_type": "code",
   "execution_count": 4,
   "id": "d5d792de",
   "metadata": {},
   "outputs": [],
   "source": [
    "# print (txt)"
   ]
  },
  {
   "cell_type": "code",
   "execution_count": 5,
   "id": "c8e75906",
   "metadata": {},
   "outputs": [],
   "source": [
    "b = parlamintee.make_tei_header(respStmt = parlamintee.RESP_LIST, \n",
    "                               funder = parlamintee.CLARIN_ERIC,\n",
    "                               publisher = parlamintee.CLARIN_ERIC,\n",
    "                               idno = parlamintee.PUBLISHER_HANDLE,\n",
    "                               availability = parlamintee.CC_BY_40_XML,\n",
    "                               use_dates = True,\n",
    "                               publication_date = '2023-02-06',\n",
    "                               bibl = parlamintee.BIBL,\n",
    "                               project_description = parlamintee.PROJECT_DESC,\n",
    "                               setting = parlamintee.RIIGIKOGU_SETTING,\n",
    "                               setting_date = '2023-02-06')\n",
    "txt = etree.tostring(b, encoding=\"unicode\", pretty_print=True)"
   ]
  },
  {
   "cell_type": "code",
   "execution_count": 6,
   "id": "4f3ef916",
   "metadata": {
    "scrolled": true
   },
   "outputs": [],
   "source": [
    "# print (txt)"
   ]
  },
  {
   "cell_type": "code",
   "execution_count": 7,
   "id": "7f13d831",
   "metadata": {},
   "outputs": [],
   "source": [
    "nestor = {'element': 'note', 'text':'Eiki Nestor', 'type':'speaker'}\n",
    "sisu = [nestor]"
   ]
  },
  {
   "cell_type": "markdown",
   "id": "6add69ec",
   "metadata": {},
   "source": [
    "c = parlamintee.make_tei_text(attrs={'ana':'#reference'},\n",
    "                             content = sisu)\n",
    "txt = etree.tostring(c, encoding=\"unicode\", pretty_print=True)"
   ]
  },
  {
   "cell_type": "code",
   "execution_count": 8,
   "id": "c5cb59e6",
   "metadata": {},
   "outputs": [
    {
     "name": "stdout",
     "output_type": "stream",
     "text": [
      "<teiHeader>\n",
      "  <fileDesc>\n",
      "    <titleStmt>\n",
      "      <respStmt>\n",
      "        <persName ref=\"https://orcid.org/0000-0002-9701-1771\">Martin Mölder</persName>\n",
      "        <persName ref=\"https://orcid.org/0000-0003-0511-5854\">Neeme Kahusk</persName>\n",
      "        <persName>Kadri Vider</persName>\n",
      "        <resp xml:lang=\"en\">Data retrieval and conversion to Parla-CLARIN TEI XML</resp>\n",
      "      </respStmt>\n",
      "      <funder>\n",
      "        <orgName xml:lang=\"et\">CLARIN ERIC teadustaristu</orgName>\n",
      "        <orgName xml:lang=\"en\">CLARIN ERIC research infrastructure</orgName>\n",
      "      </funder>\n",
      "    </titleStmt>\n",
      "    <editionStmt/>\n",
      "    <extent/>\n",
      "    <publicationStmt>\n",
      "      <publisher>\n",
      "        <orgName xml:lang=\"et\">CLARIN ERIC teadustaristu</orgName>\n",
      "        <orgName xml:lang=\"en\">CLARIN ERIC research infrastructure</orgName>\n",
      "      </publisher>\n",
      "      <idno subtype=\"handle\" type=\"URI\">http://hdl.handle.net/11356/1431</idno>\n",
      "      <availability status=\"free\">\n",
      "        <licence>http://creativecommons.org/licenses/by/4.0/</licence>\n",
      "        <p xml:lang=\"en\">This work is licensed under the <ref target=\"http://creativecommons.org/licenses/by/4.0/\">Creative Commons Attribution 4.0 International License</ref>.</p>\n",
      "      </availability>\n",
      "      <date when=\"2023-02-06\">2023-02-06</date>\n",
      "    </publicationStmt>\n",
      "    <sourceDesc>\n",
      "      <bibl>\n",
      "        <title type=\"main\" xml:lang=\"et\">Riigikogu stenogrammid</title>\n",
      "        <idno type=\"URI\">https://stenogrammid.riigikogu.ee/et/201104041500</idno>\n",
      "      </bibl>\n",
      "    </sourceDesc>\n",
      "  </fileDesc>\n",
      "  <encodingDesc>\n",
      "    <projectDesc>\n",
      "      <p xml:lang=\"en\">\n",
      "        <ref target=\"https://www.clarin.eu/content/parlamint\">ParlaMint</ref>\n",
      "      </p>\n",
      "    </projectDesc>\n",
      "    <tagsDecl/>\n",
      "  </encodingDesc>\n",
      "  <profileDesc>\n",
      "    <settingDesc>\n",
      "      <setting>\n",
      "        <name type=\"org\">Riigikogu</name>\n",
      "        <name type=\"address\">Lossi plats 1a</name>\n",
      "        <name type=\"city\">Tallinn</name>\n",
      "        <name type=\"country\" key=\"EE\">Estonia</name>\n",
      "        <date when=\"2023-02-06\">2023-02-06</date>\n",
      "      </setting>\n",
      "    </settingDesc>\n",
      "  </profileDesc>\n",
      "</teiHeader>\n",
      "\n"
     ]
    }
   ],
   "source": [
    "print(txt)"
   ]
  },
  {
   "cell_type": "code",
   "execution_count": 9,
   "id": "d6363480",
   "metadata": {},
   "outputs": [],
   "source": [
    "root = parlamintee.make_corpus_root()\n",
    "root.append(parlamintee.make_tei_header())\n",
    "#root.append(c)"
   ]
  },
  {
   "cell_type": "code",
   "execution_count": 10,
   "id": "2fb9188b",
   "metadata": {},
   "outputs": [
    {
     "name": "stdout",
     "output_type": "stream",
     "text": [
      "<TEI xmlns=\"http://www.tei-c.org/ns/1.0\" xml:lang=\"et\">\n",
      "  <teiHeader>\n",
      "    <fileDesc>\n",
      "      <titleStmt>\n",
      "        <respStmt/>\n",
      "        <funder/>\n",
      "      </titleStmt>\n",
      "      <editionStmt/>\n",
      "      <extent/>\n",
      "      <publicationStmt>\n",
      "        <publisher/>\n",
      "        <idno/>\n",
      "        <availability/>\n",
      "        <date/>\n",
      "      </publicationStmt>\n",
      "      <sourceDesc>\n",
      "        <bibl/>\n",
      "      </sourceDesc>\n",
      "    </fileDesc>\n",
      "    <encodingDesc>\n",
      "      <projectDesc/>\n",
      "      <tagsDecl/>\n",
      "    </encodingDesc>\n",
      "    <profileDesc>\n",
      "      <settingDesc>\n",
      "        <setting/>\n",
      "      </settingDesc>\n",
      "    </profileDesc>\n",
      "  </teiHeader>\n",
      "</TEI>\n",
      "\n"
     ]
    }
   ],
   "source": [
    "tekst = etree.tostring(root, encoding=\"unicode\", pretty_print=True)\n",
    "print(tekst)"
   ]
  },
  {
   "cell_type": "code",
   "execution_count": null,
   "id": "486c72a9",
   "metadata": {},
   "outputs": [],
   "source": [
    "NOTE_VASTUS = [\n",
    "    '(Kaugühendus)',\n",
    "    '(Juhataja helistab kella.)',\n",
    "    '(Aplaus.)',\n",
    "    '(Naer saalis.)',\n",
    "    '(Hääl saalist.)',\n",
    "    '(Naerab.)',\n",
    "    '(Naer.)'\n",
    "]\n",
    "katsetekst = \"\"\" Palju õnne! (Aplaus.) Nüüd on juhataja väikese dilemma ees: \n",
    "saalist kostusid mitmed hõiked, et võiks juhataja vaheaja võtta, \n",
    "siis saaks Markole õnne soovida.\"\"\"\n",
    "tulem = parlamintee.make_notes(katsetekst, NOTE_VASTUS)\n",
    "print (tulem)"
   ]
  },
  {
   "cell_type": "code",
   "execution_count": null,
   "id": "e431b663",
   "metadata": {},
   "outputs": [],
   "source": []
  }
 ],
 "metadata": {
  "kernelspec": {
   "display_name": "Python 3 (ipykernel)",
   "language": "python",
   "name": "python3"
  },
  "language_info": {
   "codemirror_mode": {
    "name": "ipython",
    "version": 3
   },
   "file_extension": ".py",
   "mimetype": "text/x-python",
   "name": "python",
   "nbconvert_exporter": "python",
   "pygments_lexer": "ipython3",
   "version": "3.8.12"
  }
 },
 "nbformat": 4,
 "nbformat_minor": 5
}
