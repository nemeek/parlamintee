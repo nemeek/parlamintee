{
 "cells": [
  {
   "cell_type": "code",
   "execution_count": 1,
   "id": "77d4c5e2",
   "metadata": {},
   "outputs": [],
   "source": [
    "import anaxml2vert"
   ]
  },
  {
   "cell_type": "code",
   "execution_count": 2,
   "id": "5af177ac",
   "metadata": {},
   "outputs": [],
   "source": [
    "e = anaxml2vert.KorpusElement()"
   ]
  },
  {
   "cell_type": "code",
   "execution_count": 3,
   "id": "8e7fafbc",
   "metadata": {},
   "outputs": [
    {
     "name": "stdout",
     "output_type": "stream",
     "text": [
      "<anaxml2vert.KorpusElement object at 0x7f4a6852e1c0>\n",
      "element\n",
      "[]\n"
     ]
    }
   ],
   "source": [
    "print(e)\n",
    "print(e.tag)\n",
    "print(e.content)"
   ]
  },
  {
   "cell_type": "code",
   "execution_count": 4,
   "id": "769aa5cd",
   "metadata": {},
   "outputs": [
    {
     "name": "stdout",
     "output_type": "stream",
     "text": [
      "corpus\n",
      "proov\n"
     ]
    }
   ],
   "source": [
    "k = anaxml2vert.Korpus(vert_filename='proov')\n",
    "print(k.tag)\n",
    "print(k.vert_filename)"
   ]
  },
  {
   "cell_type": "code",
   "execution_count": 1,
   "id": "60df53f8",
   "metadata": {},
   "outputs": [],
   "source": [
    "# Objectify"
   ]
  },
  {
   "cell_type": "code",
   "execution_count": null,
   "id": "3aac1358",
   "metadata": {},
   "outputs": [],
   "source": []
  }
 ],
 "metadata": {
  "kernelspec": {
   "display_name": "Python 3 (ipykernel)",
   "language": "python",
   "name": "python3"
  },
  "language_info": {
   "codemirror_mode": {
    "name": "ipython",
    "version": 3
   },
   "file_extension": ".py",
   "mimetype": "text/x-python",
   "name": "python",
   "nbconvert_exporter": "python",
   "pygments_lexer": "ipython3",
   "version": "3.8.12"
  }
 },
 "nbformat": 4,
 "nbformat_minor": 5
}
